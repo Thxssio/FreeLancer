{
  "nbformat": 4,
  "nbformat_minor": 0,
  "metadata": {
    "colab": {
      "provenance": []
    },
    "kernelspec": {
      "name": "python3",
      "display_name": "Python 3"
    },
    "language_info": {
      "name": "python"
    }
  },
  "cells": [
    {
      "cell_type": "code",
      "execution_count": 14,
      "metadata": {
        "colab": {
          "base_uri": "https://localhost:8080/"
        },
        "id": "OpSPM1eyg8rY",
        "outputId": "b18295cc-7d66-4d1b-a858-b3583c37dab4"
      },
      "outputs": [
        {
          "output_type": "stream",
          "name": "stdout",
          "text": [
            "Drive already mounted at /content/gdrive; to attempt to forcibly remount, call drive.mount(\"/content/gdrive\", force_remount=True).\n",
            "O país da América do Sul com o maior PIB per capita médio entre 1960 e 1989 é: Venezuela, RB\n"
          ]
        }
      ],
      "source": [
        "from google.colab import drive\n",
        "import pandas as pd\n",
        "\n",
        "drive.mount('/content/gdrive')\n",
        "\n",
        "# Configurações\n",
        "caminho = '/content/gdrive/MyDrive/'\n",
        "conjunto_dados = 'dataset_bancomundial_1.csv'\n",
        "caminho_conjunto_dados = caminho + conjunto_dados\n",
        "paises_america_sul = ['ARG', 'BOL', 'BRA', 'CHL', 'COL', 'ECU', 'GUY', 'PRY', 'PER', 'SUR', 'URY', 'VEN']\n",
        "anos = [str(ano) for ano in range(1960, 1990)]\n",
        "colunas = ['Country Name', 'Country Code'] + anos\n",
        "\n",
        "# Carrega o conjunto de dados\n",
        "banco_de_dados = pd.read_csv(caminho_conjunto_dados, sep=';', decimal=',')\n",
        "\n",
        "# Filtra os dados da América do Sul\n",
        "america_sul = banco_de_dados[banco_de_dados['Country Code'].isin(paises_america_sul)]\n",
        "\n",
        "# Filtra por PIB per capita e seleciona as colunas desejadas\n",
        "pib_per_capita = america_sul[america_sul['Indicator Name'].str.contains('GDP per capita')][colunas]\n",
        "\n",
        "# Calcula o PIB per capita médio para cada país\n",
        "pib_per_capita['PIB Médio'] = pib_per_capita[anos].mean(axis=1)\n",
        "\n",
        "# Encontra o país com o maior PIB per capita médio\n",
        "pais_maior_pib_medio = pib_per_capita.nlargest(1, 'PIB Médio')['Country Name'].values[0]\n",
        "\n",
        "print(f'O país da América do Sul com o maior PIB per capita médio entre 1960 e 1989 é: {pais_maior_pib_medio}')\n",
        "\n"
      ]
    },
    {
      "cell_type": "code",
      "source": [
        "\n",
        "# Definir o país e os anos de interesse\n",
        "codigo_pais = 'SUR'\n",
        "anos = list(map(str, range(1971, 1981)))\n",
        "\n",
        "# Carregar o conjunto de dados\n",
        "dados = pd.read_csv(caminho_conjunto_dados, sep=';', decimal=',')\n",
        "\n",
        "# Filtrar dados para Suriname e PIB per capita\n",
        "dados_filtrados = dados[(dados['Country Code'] == codigo_pais) &\n",
        "                        (dados['Indicator Name'].str.contains('GDP per capita'))]\n",
        "\n",
        "# Calcular o PIB per capita médio para Suriname na década de 1970\n",
        "pib_medio = dados_filtrados[anos].mean(axis=1).values[0]\n",
        "\n",
        "print(f'O PIB per capita médio para Suriname entre 1971 e 1980 é: {pib_medio}')\n",
        "\n"
      ],
      "metadata": {
        "colab": {
          "base_uri": "https://localhost:8080/"
        },
        "id": "akx4qUj9inNV",
        "outputId": "6b61b8ec-bd5e-4fea-9ab5-91bc46cbc8b9"
      },
      "execution_count": 11,
      "outputs": [
        {
          "output_type": "stream",
          "name": "stdout",
          "text": [
            "O PIB per capita médio para Suriname entre 1971 e 1980 é: 4151.29151995018\n"
          ]
        }
      ]
    }
  ]
}
{
  "nbformat": 4,
  "nbformat_minor": 0,
  "metadata": {
    "colab": {
      "provenance": []
    },
    "kernelspec": {
      "name": "python3",
      "display_name": "Python 3"
    },
    "language_info": {
      "name": "python"
    }
  },
  "cells": [
    {
      "cell_type": "code",
      "execution_count": 42,
      "metadata": {
        "colab": {
          "base_uri": "https://localhost:8080/"
        },
        "id": "4T-KkHl7q90J",
        "outputId": "822c643b-78f8-4b51-9466-1b41f195517e"
      },
      "outputs": [
        {
          "output_type": "stream",
          "name": "stdout",
          "text": [
            "Drive already mounted at /content/gdrive; to attempt to forcibly remount, call drive.mount(\"/content/gdrive\", force_remount=True).\n",
            "O coeficiente de variação do PIB per capita no Equador de 1980 a 2009 é: 0.1886\n"
          ]
        }
      ],
      "source": [
        "from google.colab import drive\n",
        "import pandas as pd\n",
        "import numpy as np\n",
        "\n",
        "# Function to mount Google Drive\n",
        "def mount_drive():\n",
        "    \"\"\"Mounts Google Drive in Colab for data access.\"\"\"\n",
        "    drive.mount('/content/gdrive')\n",
        "\n",
        "# Function to load data from a CSV file\n",
        "def load_data(path, data_set):\n",
        "    \"\"\"Carregando dataset do google drive.\n",
        "\n",
        "    Args:\n",
        "        path (str): O caminho para o diretório no Google Drive.\n",
        "        data_set (str): O nome do arquivo do conjunto de dados.\n",
        "\n",
        "    Returns:\n",
        "        pd.DataFrame: O conjunto de dados carregado.\n",
        "    \"\"\"\n",
        "    data_set_path = path + data_set\n",
        "    try:\n",
        "        return pd.read_csv(data_set_path, sep=';', decimal=',')\n",
        "    except FileNotFoundError:\n",
        "        raise FileNotFoundError(f\"Arquivo não encontrado na pasta. {data_set_path}\")\n",
        "\n",
        "# Function to filter and analyze data\n",
        "def analyze_data(database_data, indicator, country_code, years):\n",
        "    \"\"\"Filters and analyzes data for a specific indicator, country, and years.\n",
        "\n",
        "    Args:\n",
        "        database_data (pd.DataFrame): The dataset to be filtered.\n",
        "        indicator (str): The indicator name to filter (e.g., 'GDP per capita').\n",
        "        country_code (str): The country code (e.g., 'ECU' for Ecuador).\n",
        "        years (list): A list of years to consider.\n",
        "\n",
        "    Returns:\n",
        "        float: The coefficient of variation for the filtered data.\n",
        "    \"\"\"\n",
        "    columns = ['Country Name', 'Country Code'] + years\n",
        "    filtered_data = database_data[database_data['Indicator Name'].str.contains(indicator)][columns]\n",
        "    filtered_data = filtered_data[filtered_data['Country Code'] == country_code]\n",
        "\n",
        "    if len(filtered_data) == 0:\n",
        "        raise ValueError(\"No data found for the specified criteria.\")\n",
        "\n",
        "    # Calculate the coefficient of variation\n",
        "    mean = filtered_data[years].mean(axis=1, skipna=True)\n",
        "    std_dev = filtered_data[years].std(axis=1, skipna=True)\n",
        "    coeff_var = np.divide(std_dev, mean)\n",
        "\n",
        "    return coeff_var.values[0]\n",
        "\n",
        "# Configuration settings\n",
        "path = '/content/gdrive/MyDrive/'\n",
        "data_set = 'dataset_bancomundial_22.csv'\n",
        "years = [str(year) for year in range(1980, 2010)]\n",
        "\n",
        "# Mount Google Drive\n",
        "mount_drive()\n",
        "\n",
        "# Load the dataset\n",
        "database_data = load_data(path, data_set)\n",
        "\n",
        "# Analyze the data for GDP per capita in Ecuador\n",
        "try:\n",
        "    coeff_var = analyze_data(database_data, 'GDP per capita', 'ECU', years)\n",
        "    print(f'O coeficiente de variação do PIB per capita no Equador de 1980 a 2009 é: {coeff_var:.4f}')\n",
        "except FileNotFoundError as e:\n",
        "    print(f\"Error: {e}\")\n",
        "except ValueError as e:\n",
        "    print(f\"Error: {e}\")\n",
        "\n"
      ]
    },
    {
      "cell_type": "code",
      "source": [
        "# Definir o país e os anos de interesse\n",
        "codigo_pais = 'GUY'\n",
        "anos = list(map(str, range(1981, 1991)))\n",
        "\n",
        "# Carregar o conjunto de dados\n",
        "dados = pd.read_csv(data_set_path, sep=';', decimal=',')\n",
        "\n",
        "# Filtrar dados para Suriname e PIB per capita\n",
        "dados_filtrados = dados[(dados['Country Code'] == codigo_pais) &\n",
        "                        (dados['Indicator Name'].str.contains('GDP per capita'))]\n",
        "\n",
        "# Calcular o PIB per capita médio para Suriname na década de 1970\n",
        "pib_medio = dados_filtrados[anos].mean(axis=1).values[0]\n",
        "\n",
        "print(f'O PIB per capita médio para Guyana entre 1981 e 1990 é: {pib_medio}')\n"
      ],
      "metadata": {
        "colab": {
          "base_uri": "https://localhost:8080/"
        },
        "id": "AWqGFF_rsV8I",
        "outputId": "a2b27146-1da3-4b53-e810-b2a75bbbc271"
      },
      "execution_count": 41,
      "outputs": [
        {
          "output_type": "stream",
          "name": "stdout",
          "text": [
            "O PIB per capita médio para Guyana entre 1981 e 1990 é: 768.5412409914137\n"
          ]
        }
      ]
    }
  ]
}